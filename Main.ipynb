{
  "nbformat": 4,
  "nbformat_minor": 0,
  "metadata": {
    "colab": {
      "provenance": [],
      "collapsed_sections": [
        "dB7pD2Nb0eeV",
        "WHukmbz6qL1P",
        "8VKJcJVIqaXo",
        "IK4-F-hIqqoM",
        "2_uXv2P8oYx4",
        "XLYFxzjV0kNl",
        "aQsTdqS52aDD",
        "_lUVFbKw2gg7"
      ]
    },
    "kernelspec": {
      "name": "python3",
      "display_name": "Python 3"
    },
    "language_info": {
      "name": "python"
    }
  },
  "cells": [
    {
      "cell_type": "markdown",
      "source": [
        "Found Mokbel Karam, Tony Saad program well stable; Use only one at an onen instance to avoide ddefination conflicts between two scripts"
      ],
      "metadata": {
        "id": "SaIquAl6_wLQ"
      }
    },
    {
      "cell_type": "markdown",
      "source": [
        "# **From ian-r-rose**"
      ],
      "metadata": {
        "id": "dB7pD2Nb0eeV"
      }
    },
    {
      "cell_type": "markdown",
      "source": [
        "## Not required steps"
      ],
      "metadata": {
        "id": "WHukmbz6qL1P"
      }
    },
    {
      "cell_type": "code",
      "source": [
        "!git clone https://github.com/ian-r-rose/buckinghampy.git\n",
        "!python /content/buckinghampy/setup.py install"
      ],
      "metadata": {
        "colab": {
          "base_uri": "https://localhost:8080/"
        },
        "id": "5sY4PxY7oRd3",
        "outputId": "5af9c673-4a59-4284-fea4-68c2676c893c"
      },
      "execution_count": null,
      "outputs": [
        {
          "output_type": "stream",
          "name": "stdout",
          "text": [
            "Cloning into 'buckinghampy'...\n",
            "remote: Enumerating objects: 76, done.\u001b[K\n",
            "remote: Total 76 (delta 0), reused 0 (delta 0), pack-reused 76\u001b[K\n",
            "Unpacking objects: 100% (76/76), done.\n"
          ]
        }
      ]
    },
    {
      "cell_type": "markdown",
      "source": [
        "## Main"
      ],
      "metadata": {
        "id": "8VKJcJVIqaXo"
      }
    },
    {
      "cell_type": "code",
      "source": [
        "pip install buckinghampy\n"
      ],
      "metadata": {
        "colab": {
          "base_uri": "https://localhost:8080/"
        },
        "id": "xPAnIOvdp6HX",
        "outputId": "85adc00a-ac80-4445-b23d-e774fd9e6a2a"
      },
      "execution_count": null,
      "outputs": [
        {
          "output_type": "stream",
          "name": "stdout",
          "text": [
            "Looking in indexes: https://pypi.org/simple, https://us-python.pkg.dev/colab-wheels/public/simple/\n",
            "Requirement already satisfied: buckinghampy in /usr/local/lib/python3.7/dist-packages (1.0)\n",
            "Requirement already satisfied: sympy in /usr/local/lib/python3.7/dist-packages (from buckinghampy) (1.7.1)\n",
            "Requirement already satisfied: mpmath>=0.19 in /usr/local/lib/python3.7/dist-packages (from sympy->buckinghampy) (1.2.1)\n"
          ]
        }
      ]
    },
    {
      "cell_type": "code",
      "source": [
        "import buckinghampy\n",
        "from buckinghampy.parameters import *"
      ],
      "metadata": {
        "id": "Ovybv_BCibNL"
      },
      "execution_count": null,
      "outputs": []
    },
    {
      "cell_type": "markdown",
      "source": [
        "## With internal Parameters"
      ],
      "metadata": {
        "id": "IK4-F-hIqqoM"
      }
    },
    {
      "cell_type": "code",
      "source": [
        "parameters = [velocity, mass, gravity, length]\n",
        "nondimensional_numbers = buckinghampy.find_nondimensional_numbers(parameters)"
      ],
      "metadata": {
        "id": "gJWMAmTfjFI4"
      },
      "execution_count": null,
      "outputs": []
    },
    {
      "cell_type": "code",
      "source": [
        "nondimensional_numbers"
      ],
      "metadata": {
        "colab": {
          "base_uri": "https://localhost:8080/"
        },
        "id": "iAjTb6HFk74t",
        "outputId": "e48c67dd-cc23-4658-8879-7430ff600225"
      },
      "execution_count": null,
      "outputs": [
        {
          "output_type": "execute_result",
          "data": {
            "text/plain": [
              "[<buckinghampy.nondimensional.NondimensionalNumber at 0x7f8735a4c710>]"
            ],
            "text/latex": "$$\\frac{ g L}{ u^{2}}$$"
          },
          "metadata": {},
          "execution_count": 9
        }
      ]
    },
    {
      "cell_type": "markdown",
      "source": [
        "## **With defined Parameters**\n",
        "\n"
      ],
      "metadata": {
        "id": "2_uXv2P8oYx4"
      }
    },
    {
      "cell_type": "code",
      "source": [
        "buoyancy_parameter = Parameter( '\\\\rho_0 \\\\alpha g', {'kg' :  1,\\\n",
        "                                                      'm'  : -2,\\\n",
        "                                                      's'  : -2,\\\n",
        "                                                      'K'  : -1})\n",
        "delta_T = Parameter( '\\\\Delta T', {'K' : 1})"
      ],
      "metadata": {
        "id": "t_oH39WTk9Zu"
      },
      "execution_count": null,
      "outputs": []
    },
    {
      "cell_type": "code",
      "source": [
        "parameters = [buoyancy_parameter, delta_T, length, thermal_diffusivity, viscosity]\n",
        "nondimensional_numbers = buckinghampy.find_nondimensional_numbers(parameters)\n",
        "\n",
        "nondimensional_numbers"
      ],
      "metadata": {
        "id": "safuVwCWn2xm"
      },
      "execution_count": null,
      "outputs": []
    },
    {
      "cell_type": "markdown",
      "source": [
        "## Self test"
      ],
      "metadata": {
        "id": "B7VlMSAfrMuw"
      }
    },
    {
      "cell_type": "code",
      "source": [
        "efficiency= Parameter( '\\\\eta', {})\n",
        "density= Parameter( '\\\\rho', {'kg' :  1,\\\n",
        "                                                      'm'  : -3,\\\n",
        "                                                      's'  : 0,\\\n",
        "                                                      'K'  : 0})\n",
        "viscosity= Parameter( '\\\\mu', {'kg' :  1,\\\n",
        "                                                      'm'  : -1,\\\n",
        "                                                      's'  : -1,\\\n",
        "                                                      'K'  : 0})\n",
        "angularVelocity= Parameter( '\\\\omega', {'kg' :  0,\\\n",
        "                                                      'm'  : 0,\\\n",
        "                                                      's'  : -1,\\\n",
        "                                                      'K'  : 0})\n",
        "\n",
        "\n",
        "diameter= Parameter( 'D', {'kg' :  0,\\\n",
        "                                                      'm'  : 1,\\\n",
        "                                                      's'  : 0,\\\n",
        "                                                      'K'  : 0})\n",
        "discharge= Parameter( 'Q', {'kg' :  0,\\\n",
        "                                                      'm'  : 3,\\\n",
        "                                                      's'  : -1,\\\n",
        "                                                      'K'  : 0})"
      ],
      "metadata": {
        "id": "PYUmA5V7rPeY"
      },
      "execution_count": null,
      "outputs": []
    },
    {
      "cell_type": "code",
      "source": [
        "parameters = [efficiency, density, viscosity , angularVelocity, diameter, discharge]\n",
        "nondimensional_numbers = buckinghampy.find_nondimensional_numbers(parameters)\n",
        "\n",
        "nondimensional_numbers"
      ],
      "metadata": {
        "colab": {
          "base_uri": "https://localhost:8080/",
          "height": 43
        },
        "id": "cEsgQ7rArifA",
        "outputId": "77c1c13e-f921-48b7-8fe9-68d0e5962ea4"
      },
      "execution_count": null,
      "outputs": [
        {
          "output_type": "execute_result",
          "data": {
            "text/plain": [
              "[<buckinghampy.nondimensional.NondimensionalNumber at 0x7f8734fc52d0>,\n",
              " <buckinghampy.nondimensional.NondimensionalNumber at 0x7f8734fc5c50>,\n",
              " <buckinghampy.nondimensional.NondimensionalNumber at 0x7f8734fc50d0>]"
            ],
            "text/latex": "$$ \\eta, \\frac{ \\rho \\omega D^{2}}{ \\mu}, \\frac{ \\rho^{3} \\omega Q^{2}}{ \\mu^{3}}$$"
          },
          "metadata": {},
          "execution_count": 31
        }
      ]
    },
    {
      "cell_type": "markdown",
      "source": [
        "# **From Mokbel Karam, Tony Saad**"
      ],
      "metadata": {
        "id": "XLYFxzjV0kNl"
      }
    },
    {
      "cell_type": "markdown",
      "source": [
        "## Installaton step"
      ],
      "metadata": {
        "id": "aQsTdqS52aDD"
      }
    },
    {
      "cell_type": "code",
      "source": [
        "!git clone https://github.com/saadgroup/BuckinghamPy.git  #download pakage\n",
        "cd BuckinghamPy                                           #change directory\n",
        "pip install .                                             #Install pakage\n",
        "cd                                                        #navigate to root directory"
      ],
      "metadata": {
        "colab": {
          "base_uri": "https://localhost:8080/"
        },
        "id": "lijklTzG0r-w",
        "outputId": "a1c6f1f0-9981-46a2-803c-f10c106ad19a"
      },
      "execution_count": null,
      "outputs": [
        {
          "output_type": "stream",
          "name": "stdout",
          "text": [
            "Cloning into 'BuckinghamPy'...\n",
            "remote: Enumerating objects: 473, done.\u001b[K\n",
            "remote: Counting objects: 100% (59/59), done.\u001b[K\n",
            "remote: Compressing objects: 100% (21/21), done.\u001b[K\n",
            "remote: Total 473 (delta 51), reused 38 (delta 38), pack-reused 414\u001b[K\n",
            "Receiving objects: 100% (473/473), 1.17 MiB | 16.60 MiB/s, done.\n",
            "Resolving deltas: 100% (242/242), done.\n"
          ]
        }
      ]
    },
    {
      "cell_type": "markdown",
      "source": [
        "## Example"
      ],
      "metadata": {
        "id": "_lUVFbKw2gg7"
      }
    },
    {
      "cell_type": "markdown",
      "source": [
        "[link text](https://github.com/saadgroup/BuckinghamPy/blob/master/examples.ipynb [link text](https://))"
      ],
      "metadata": {
        "id": "OfFSku5j3ZR3"
      }
    },
    {
      "cell_type": "code",
      "source": [
        "#Example 1: Pressure Drop in Pipe\n",
        "from buckinghampy import BuckinghamPi\n",
        "\n",
        "Pressure_Drop = BuckinghamPi()\n",
        "Pressure_Drop.add_variable(name='{\\\\Delta}p',dimensions='M*L^(-1)*T^(-2)')     # pressure drop\n",
        "Pressure_Drop.add_variable(name='R',dimensions='L')                            # length of the pipe\n",
        "Pressure_Drop.add_variable(name='d',dimensions='L')                            # diameter of the pipe\n",
        "Pressure_Drop.add_variable(name='\\\\mu',dimensions='M*L^(-1)*T^(-1)')           # viscosity\n",
        "Pressure_Drop.add_variable(name='Q',dimensions='L^(3)*T^(-1)')                 # volumetic flow rate\n",
        "\n",
        "Pressure_Drop.generate_pi_terms()\n",
        "Pressure_Drop.print_all()"
      ],
      "metadata": {
        "colab": {
          "base_uri": "https://localhost:8080/"
        },
        "id": "sj89mrz63R5a",
        "outputId": "16a6ac6e-e927-474d-b48f-1ff8b6577a4e"
      },
      "execution_count": null,
      "outputs": [
        {
          "output_type": "display_data",
          "data": {
            "text/plain": [
              "<IPython.core.display.Math object>"
            ],
            "text/latex": "$\\displaystyle \\text{Set }1: \\quad\\pi_1 = \\frac{R}{d}\\quad\\pi_2 = \\frac{Q \\mu}{d^{3} {\\Delta}p}\\quad$"
          },
          "metadata": {}
        },
        {
          "output_type": "display_data",
          "data": {
            "text/plain": [
              "<IPython.core.display.Markdown object>"
            ],
            "text/markdown": "---"
          },
          "metadata": {}
        },
        {
          "output_type": "display_data",
          "data": {
            "text/plain": [
              "<IPython.core.display.Math object>"
            ],
            "text/latex": "$\\displaystyle \\text{Set }2: \\quad\\pi_1 = \\frac{R \\sqrt[3]{{\\Delta}p}}{\\sqrt[3]{Q} \\sqrt[3]{\\mu}}\\quad\\pi_2 = \\frac{d \\sqrt[3]{{\\Delta}p}}{\\sqrt[3]{Q} \\sqrt[3]{\\mu}}\\quad$"
          },
          "metadata": {}
        },
        {
          "output_type": "display_data",
          "data": {
            "text/plain": [
              "<IPython.core.display.Markdown object>"
            ],
            "text/markdown": "---"
          },
          "metadata": {}
        },
        {
          "output_type": "display_data",
          "data": {
            "text/plain": [
              "<IPython.core.display.Math object>"
            ],
            "text/latex": "$\\displaystyle \\text{Set }3: \\quad\\pi_1 = \\frac{d}{R}\\quad\\pi_2 = \\frac{Q \\mu}{R^{3} {\\Delta}p}\\quad$"
          },
          "metadata": {}
        },
        {
          "output_type": "display_data",
          "data": {
            "text/plain": [
              "<IPython.core.display.Markdown object>"
            ],
            "text/markdown": "---"
          },
          "metadata": {}
        }
      ]
    },
    {
      "cell_type": "code",
      "source": [
        "from buckinghampy import BuckinghamPi\n",
        "\n",
        "Example = BuckinghamPi()\n",
        "Example.add_variable(name='R', dimensions='M/L^(3)')\n",
        "Example.add_variable(name='P', dimensions='M*L^(2)/(T^3)', non_repeating=True)\n",
        "Example.add_variable(name='V', dimensions='M/(T*L)')\n",
        "Example.add_variable(name='Q', dimensions='L^(3)/T')\n",
        "Example.add_variable(name='E', dimensions='L')\n",
        "Example.add_variable(name='G', dimensions='1/T')\n",
        "\n",
        "Example.generate_pi_terms()\n",
        "\n",
        "Example.print_all()"
      ],
      "metadata": {
        "colab": {
          "base_uri": "https://localhost:8080/"
        },
        "id": "BXzUL2zH2n12",
        "outputId": "ccfd9885-a113-4150-b534-cff19d8deca2"
      },
      "execution_count": null,
      "outputs": [
        {
          "output_type": "display_data",
          "data": {
            "text/plain": [
              "<IPython.core.display.Math object>"
            ],
            "text/latex": "$\\displaystyle \\text{Set }1: \\quad\\pi_1 = \\frac{P Q R^{3}}{V^{4}}\\quad\\pi_2 = \\frac{E V}{Q R}\\quad\\pi_3 = \\frac{G Q^{2} R^{3}}{V^{3}}\\quad$"
          },
          "metadata": {}
        },
        {
          "output_type": "display_data",
          "data": {
            "text/plain": [
              "<IPython.core.display.Markdown object>"
            ],
            "text/markdown": "---"
          },
          "metadata": {}
        },
        {
          "output_type": "display_data",
          "data": {
            "text/plain": [
              "<IPython.core.display.Math object>"
            ],
            "text/latex": "$\\displaystyle \\text{Set }2: \\quad\\pi_1 = \\frac{E P R^{2}}{V^{3}}\\quad\\pi_2 = \\frac{Q R}{E V}\\quad\\pi_3 = \\frac{E^{2} G R}{V}\\quad$"
          },
          "metadata": {}
        },
        {
          "output_type": "display_data",
          "data": {
            "text/plain": [
              "<IPython.core.display.Markdown object>"
            ],
            "text/markdown": "---"
          },
          "metadata": {}
        },
        {
          "output_type": "display_data",
          "data": {
            "text/plain": [
              "<IPython.core.display.Math object>"
            ],
            "text/latex": "$\\displaystyle \\text{Set }3: \\quad\\pi_1 = \\frac{P R^{\\frac{3}{2}}}{\\sqrt{G} V^{\\frac{5}{2}}}\\quad\\pi_2 = \\frac{\\sqrt{G} Q R^{\\frac{3}{2}}}{V^{\\frac{3}{2}}}\\quad\\pi_3 = \\frac{E \\sqrt{G} \\sqrt{R}}{\\sqrt{V}}\\quad$"
          },
          "metadata": {}
        },
        {
          "output_type": "display_data",
          "data": {
            "text/plain": [
              "<IPython.core.display.Markdown object>"
            ],
            "text/markdown": "---"
          },
          "metadata": {}
        },
        {
          "output_type": "display_data",
          "data": {
            "text/plain": [
              "<IPython.core.display.Math object>"
            ],
            "text/latex": "$\\displaystyle \\text{Set }4: \\quad\\pi_1 = \\frac{E^{4} P}{Q^{3} R}\\quad\\pi_2 = \\frac{E V}{Q R}\\quad\\pi_3 = \\frac{E^{3} G}{Q}\\quad$"
          },
          "metadata": {}
        },
        {
          "output_type": "display_data",
          "data": {
            "text/plain": [
              "<IPython.core.display.Markdown object>"
            ],
            "text/markdown": "---"
          },
          "metadata": {}
        },
        {
          "output_type": "display_data",
          "data": {
            "text/plain": [
              "<IPython.core.display.Math object>"
            ],
            "text/latex": "$\\displaystyle \\text{Set }5: \\quad\\pi_1 = \\frac{P}{G^{\\frac{4}{3}} Q^{\\frac{5}{3}} R}\\quad\\pi_2 = \\frac{V}{\\sqrt[3]{G} Q^{\\frac{2}{3}} R}\\quad\\pi_3 = \\frac{E \\sqrt[3]{G}}{\\sqrt[3]{Q}}\\quad$"
          },
          "metadata": {}
        },
        {
          "output_type": "display_data",
          "data": {
            "text/plain": [
              "<IPython.core.display.Markdown object>"
            ],
            "text/markdown": "---"
          },
          "metadata": {}
        },
        {
          "output_type": "display_data",
          "data": {
            "text/plain": [
              "<IPython.core.display.Math object>"
            ],
            "text/latex": "$\\displaystyle \\text{Set }6: \\quad\\pi_1 = \\frac{P}{E^{5} G^{3} R}\\quad\\pi_2 = \\frac{V}{E^{2} G R}\\quad\\pi_3 = \\frac{Q}{E^{3} G}\\quad$"
          },
          "metadata": {}
        },
        {
          "output_type": "display_data",
          "data": {
            "text/plain": [
              "<IPython.core.display.Markdown object>"
            ],
            "text/markdown": "---"
          },
          "metadata": {}
        },
        {
          "output_type": "display_data",
          "data": {
            "text/plain": [
              "<IPython.core.display.Math object>"
            ],
            "text/latex": "$\\displaystyle \\text{Set }7: \\quad\\pi_1 = \\frac{Q R}{E V}\\quad\\pi_2 = \\frac{E^{3} P}{Q^{2} V}\\quad\\pi_3 = \\frac{E^{3} G}{Q}\\quad$"
          },
          "metadata": {}
        },
        {
          "output_type": "display_data",
          "data": {
            "text/plain": [
              "<IPython.core.display.Markdown object>"
            ],
            "text/markdown": "---"
          },
          "metadata": {}
        },
        {
          "output_type": "display_data",
          "data": {
            "text/plain": [
              "<IPython.core.display.Math object>"
            ],
            "text/latex": "$\\displaystyle \\text{Set }8: \\quad\\pi_1 = \\frac{\\sqrt[3]{G} Q^{\\frac{2}{3}} R}{V}\\quad\\pi_2 = \\frac{P}{G Q V}\\quad\\pi_3 = \\frac{E \\sqrt[3]{G}}{\\sqrt[3]{Q}}\\quad$"
          },
          "metadata": {}
        },
        {
          "output_type": "display_data",
          "data": {
            "text/plain": [
              "<IPython.core.display.Markdown object>"
            ],
            "text/markdown": "---"
          },
          "metadata": {}
        },
        {
          "output_type": "display_data",
          "data": {
            "text/plain": [
              "<IPython.core.display.Math object>"
            ],
            "text/latex": "$\\displaystyle \\text{Set }9: \\quad\\pi_1 = \\frac{E^{2} G R}{V}\\quad\\pi_2 = \\frac{P}{E^{3} G^{2} V}\\quad\\pi_3 = \\frac{Q}{E^{3} G}\\quad$"
          },
          "metadata": {}
        },
        {
          "output_type": "display_data",
          "data": {
            "text/plain": [
              "<IPython.core.display.Markdown object>"
            ],
            "text/markdown": "---"
          },
          "metadata": {}
        }
      ]
    },
    {
      "cell_type": "markdown",
      "source": [
        "##Self"
      ],
      "metadata": {
        "id": "Gv-t4i1U29LU"
      }
    },
    {
      "cell_type": "markdown",
      "source": [
        "![image.png](data:image/png;base64,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)\n",
        "![image.png](data:image/png;base64,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)"
      ],
      "metadata": {
        "id": "1sFXjs-O9A7w"
      }
    },
    {
      "cell_type": "code",
      "source": [
        "# efficiency of fan blades\n",
        "from buckinghampy import BuckinghamPi\n",
        "\n",
        "model = BuckinghamPi()\n",
        "model.add_variable(name='{\\\\eta}',dimensions='1')     #efficiency\n",
        "model.add_variable(name='{\\\\rho}',dimensions='M*L^(-3)') #Density\n",
        "model.add_variable(name='{\\\\mu}',dimensions='M*L^(-1)*T^(-1)')   #Dynamic viscosity\n",
        "model.add_variable(name='{\\\\omega}',dimensions='T^(-1)')#Angular velocity\n",
        "model.add_variable(name='D',dimensions='L')        #Diameter of rotor\n",
        "model.add_variable(name='Q',dimensions='L^(3)*T^(-1)')         #Discharge of fluid\n",
        "#model.add_variable(name='',dimensions='M*L*T')\n",
        "\n",
        "model.generate_pi_terms()\n",
        "model.print_all()"
      ],
      "metadata": {
        "colab": {
          "base_uri": "https://localhost:8080/",
          "height": 360
        },
        "id": "fnAgK22y236g",
        "outputId": "b8cea69f-6aa9-44e1-c9a5-9972f7472dd3"
      },
      "execution_count": null,
      "outputs": [
        {
          "output_type": "display_data",
          "data": {
            "text/plain": [
              "<IPython.core.display.Math object>"
            ],
            "text/latex": "$\\displaystyle \\text{Set }1: \\quad\\pi_1 = \\frac{{\\mu}}{D^{2} {\\omega} {\\rho}}\\quad\\pi_2 = \\frac{Q}{D^{3} {\\omega}}\\quad\\pi_3 = {\\eta}\\quad$"
          },
          "metadata": {}
        },
        {
          "output_type": "display_data",
          "data": {
            "text/plain": [
              "<IPython.core.display.Markdown object>"
            ],
            "text/markdown": "---"
          },
          "metadata": {}
        },
        {
          "output_type": "display_data",
          "data": {
            "text/plain": [
              "<IPython.core.display.Math object>"
            ],
            "text/latex": "$\\displaystyle \\text{Set }2: \\quad\\pi_1 = \\frac{{\\mu}}{Q^{\\frac{2}{3}} \\sqrt[3]{{\\omega}} {\\rho}}\\quad\\pi_2 = \\frac{D \\sqrt[3]{{\\omega}}}{\\sqrt[3]{Q}}\\quad\\pi_3 = {\\eta}\\quad$"
          },
          "metadata": {}
        },
        {
          "output_type": "display_data",
          "data": {
            "text/plain": [
              "<IPython.core.display.Markdown object>"
            ],
            "text/markdown": "---"
          },
          "metadata": {}
        },
        {
          "output_type": "display_data",
          "data": {
            "text/plain": [
              "<IPython.core.display.Math object>"
            ],
            "text/latex": "$\\displaystyle \\text{Set }3: \\quad\\pi_1 = \\frac{D {\\mu}}{Q {\\rho}}\\quad\\pi_2 = \\frac{D^{3} {\\omega}}{Q}\\quad\\pi_3 = {\\eta}\\quad$"
          },
          "metadata": {}
        },
        {
          "output_type": "display_data",
          "data": {
            "text/plain": [
              "<IPython.core.display.Markdown object>"
            ],
            "text/markdown": "---"
          },
          "metadata": {}
        },
        {
          "output_type": "display_data",
          "data": {
            "text/plain": [
              "<IPython.core.display.Math object>"
            ],
            "text/latex": "$\\displaystyle \\text{Set }4: \\quad\\pi_1 = \\frac{D^{2} {\\omega} {\\rho}}{{\\mu}}\\quad\\pi_2 = \\frac{Q {\\rho}}{D {\\mu}}\\quad\\pi_3 = {\\eta}\\quad$"
          },
          "metadata": {}
        },
        {
          "output_type": "display_data",
          "data": {
            "text/plain": [
              "<IPython.core.display.Markdown object>"
            ],
            "text/markdown": "---"
          },
          "metadata": {}
        },
        {
          "output_type": "display_data",
          "data": {
            "text/plain": [
              "<IPython.core.display.Math object>"
            ],
            "text/latex": "$\\displaystyle \\text{Set }5: \\quad\\pi_1 = \\frac{Q^{2} {\\omega} {\\rho}^{3}}{{\\mu}^{3}}\\quad\\pi_2 = \\frac{D {\\mu}}{Q {\\rho}}\\quad\\pi_3 = {\\eta}\\quad$"
          },
          "metadata": {}
        },
        {
          "output_type": "display_data",
          "data": {
            "text/plain": [
              "<IPython.core.display.Markdown object>"
            ],
            "text/markdown": "---"
          },
          "metadata": {}
        },
        {
          "output_type": "display_data",
          "data": {
            "text/plain": [
              "<IPython.core.display.Math object>"
            ],
            "text/latex": "$\\displaystyle \\text{Set }6: \\quad\\pi_1 = \\frac{D \\sqrt{{\\omega}} \\sqrt{{\\rho}}}{\\sqrt{{\\mu}}}\\quad\\pi_2 = \\frac{Q \\sqrt{{\\omega}} {\\rho}^{\\frac{3}{2}}}{{\\mu}^{\\frac{3}{2}}}\\quad\\pi_3 = {\\eta}\\quad$"
          },
          "metadata": {}
        },
        {
          "output_type": "display_data",
          "data": {
            "text/plain": [
              "<IPython.core.display.Markdown object>"
            ],
            "text/markdown": "---"
          },
          "metadata": {}
        }
      ]
    },
    {
      "cell_type": "code",
      "source": [],
      "metadata": {
        "id": "q_mMyBGy4fw-"
      },
      "execution_count": null,
      "outputs": []
    }
  ]
}